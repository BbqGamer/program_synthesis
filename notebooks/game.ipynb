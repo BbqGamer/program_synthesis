{
 "cells": [
  {
   "cell_type": "code",
   "execution_count": 1,
   "metadata": {},
   "outputs": [
    {
     "data": {
      "text/plain": [
       "([1, 2, 0, 0, 2, 1, 0, 0], {})"
      ]
     },
     "execution_count": 1,
     "metadata": {},
     "output_type": "execute_result"
    }
   ],
   "source": [
    "import assembly_game\n",
    "import gymnasium as gym\n",
    "\n",
    "game = gym.make(\"Min2Game\")\n",
    "\n",
    "game.reset()"
   ]
  },
  {
   "cell_type": "markdown",
   "metadata": {},
   "source": [
    "Let's first move the value from %rdi to the return value (%rax), as you can see we immediately get reward of 10 because in one training example result is in the correct spot \\\n",
    "we are getting however the penalty of 1 for every timestep."
   ]
  },
  {
   "cell_type": "code",
   "execution_count": null,
   "metadata": {},
   "outputs": [
    {
     "ename": "AttributeError",
     "evalue": "type object 'Processor' has no attribute 'actions'",
     "output_type": "error",
     "traceback": [
      "\u001b[91m---------------------------------------------------------------------------\u001b[39m",
      "\u001b[91mAttributeError\u001b[39m                            Traceback (most recent call last)",
      "\u001b[96mCell\u001b[39m\u001b[96m \u001b[39m\u001b[32mIn[2]\u001b[39m\u001b[32m, line 3\u001b[39m\n\u001b[92m      1\u001b[39m \u001b[38;5;204mfrom\u001b[39m\u001b[38;5;15m \u001b[39m\u001b[38;5;15massembly_game\u001b[39m\u001b[38;5;15m.\u001b[39m\u001b[38;5;15mprocessor\u001b[39m\u001b[38;5;15m \u001b[39m\u001b[38;5;204mimport\u001b[39m\u001b[38;5;15m \u001b[39m\u001b[38;5;15mProcessor\u001b[39m\n\u001b[92m----> \u001b[39m\u001b[92m3\u001b[39m \u001b[38;5;15mlist\u001b[39m\u001b[38;5;15m(\u001b[39m\u001b[38;5;15menumerate\u001b[39m\u001b[38;5;15m(\u001b[39m\u001b[38;5;15;43mProcessor\u001b[39;49m\u001b[38;5;204;43m.\u001b[39;49m\u001b[38;5;15;43mactions\u001b[39;49m\u001b[38;5;15m)\u001b[39m\u001b[38;5;15m)\u001b[39m\n",
      "\u001b[91mAttributeError\u001b[39m: type object 'Processor' has no attribute 'actions'"
     ]
    }
   ],
   "source": [
    "from assembly_game.processor import PROCESSOR_ACTIONS\n",
    "\n",
    "list(enumerate(Processor.actions))"
   ]
  },
  {
   "cell_type": "code",
   "execution_count": null,
   "metadata": {},
   "outputs": [
    {
     "data": {
      "text/plain": [
       "([1, 2, 1, 0, 2, 1, 2, 0], 9, False, False, {})"
      ]
     },
     "execution_count": 6,
     "metadata": {},
     "output_type": "execute_result"
    }
   ],
   "source": [
    "game.step(2) # MOV %rdi, %rax"
   ]
  },
  {
   "cell_type": "markdown",
   "metadata": {},
   "source": [
    "Let's now compare the value with the value in %rsi, if $rax happens to be greater then it must be the case that the value %rsi is minimum"
   ]
  },
  {
   "cell_type": "code",
   "execution_count": 7,
   "metadata": {},
   "outputs": [
    {
     "data": {
      "text/plain": [
       "([1, 2, 1, -1, 2, 1, 2, 1], 8, False, False, {})"
      ]
     },
     "execution_count": 7,
     "metadata": {},
     "output_type": "execute_result"
    }
   ],
   "source": [
    "game.step(14) # CMP $rsi, %rax"
   ]
  },
  {
   "cell_type": "markdown",
   "metadata": {},
   "source": [
    "After conditional move all testing examples are \"solved\", as we are getting reward of 20 and penalty of 3 instructions used"
   ]
  },
  {
   "cell_type": "code",
   "execution_count": 8,
   "metadata": {},
   "outputs": [
    {
     "data": {
      "text/plain": [
       "([1, 2, 1, -1, 2, 1, 1, 1], 17, False, False, {})"
      ]
     },
     "execution_count": 8,
     "metadata": {},
     "output_type": "execute_result"
    }
   ],
   "source": [
    "game.step(23) # CMOVG %rsi, %rax"
   ]
  },
  {
   "cell_type": "markdown",
   "metadata": {},
   "source": [
    "Lastly we need to run the RET instructions to observe value of terminated=True"
   ]
  },
  {
   "cell_type": "code",
   "execution_count": 9,
   "metadata": {},
   "outputs": [
    {
     "data": {
      "text/plain": [
       "([1, 2, 1, -1, 2, 1, 1, 1], 16, True, False, {})"
      ]
     },
     "execution_count": 9,
     "metadata": {},
     "output_type": "execute_result"
    }
   ],
   "source": [
    "game.step(27) # RET"
   ]
  },
  {
   "cell_type": "markdown",
   "metadata": {},
   "source": [
    "# Now let's see how to add timelimit to the environment"
   ]
  },
  {
   "cell_type": "code",
   "execution_count": 10,
   "metadata": {},
   "outputs": [],
   "source": [
    "game = gym.make(\"Min2Game\", max_episode_steps=4)"
   ]
  },
  {
   "cell_type": "code",
   "execution_count": 11,
   "metadata": {},
   "outputs": [
    {
     "data": {
      "text/plain": [
       "([1, 2, 0, 0, 2, 1, 0, 0], -1, False, False, {})"
      ]
     },
     "execution_count": 11,
     "metadata": {},
     "output_type": "execute_result"
    }
   ],
   "source": [
    "game.reset()\n",
    "DUMMY = (0)\n",
    "game.step(DUMMY)"
   ]
  },
  {
   "cell_type": "markdown",
   "metadata": {},
   "source": [
    "After 4 steps the truncated is being set to True, indicating that the episode has ended due to the time limit."
   ]
  },
  {
   "cell_type": "code",
   "execution_count": 12,
   "metadata": {},
   "outputs": [
    {
     "data": {
      "text/plain": [
       "([1, 2, 0, 0, 2, 1, 0, 0], -4, False, True, {})"
      ]
     },
     "execution_count": 12,
     "metadata": {},
     "output_type": "execute_result"
    }
   ],
   "source": [
    "game.step(DUMMY)\n",
    "game.step(DUMMY)\n",
    "game.step(DUMMY)"
   ]
  }
 ],
 "metadata": {
  "kernelspec": {
   "display_name": ".venv",
   "language": "python",
   "name": "python3"
  },
  "language_info": {
   "codemirror_mode": {
    "name": "ipython",
    "version": 3
   },
   "file_extension": ".py",
   "mimetype": "text/x-python",
   "name": "python",
   "nbconvert_exporter": "python",
   "pygments_lexer": "ipython3",
   "version": "3.11.2"
  }
 },
 "nbformat": 4,
 "nbformat_minor": 2
}
