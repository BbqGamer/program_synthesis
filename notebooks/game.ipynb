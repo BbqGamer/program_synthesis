{
 "cells": [
  {
   "cell_type": "code",
   "execution_count": 1,
   "metadata": {},
   "outputs": [
    {
     "data": {
      "text/plain": [
       "([1, 2, 0, 0, 2, 1, 0, 0], {})"
      ]
     },
     "execution_count": 1,
     "metadata": {},
     "output_type": "execute_result"
    }
   ],
   "source": [
    "import assembly_game\n",
    "import gymnasium as gym\n",
    "\n",
    "game = gym.make(\"Min2Game\")\n",
    "\n",
    "game.reset()"
   ]
  },
  {
   "cell_type": "markdown",
   "metadata": {},
   "source": [
    "Let's first move the value from %rdi to the return value (%rax), as you can see we immediately get reward of 10 because in one training example result is in the correct spot \\\n",
    "we are getting however the penalty of 1 for every timestep."
   ]
  },
  {
   "cell_type": "code",
   "execution_count": 5,
   "metadata": {},
   "outputs": [
    {
     "data": {
      "text/plain": [
       "[(0, (<Instruction.MOV: 0>, <Operand.RDI: 0>, <Operand.RDI: 0>)),\n",
       " (1, (<Instruction.MOV: 0>, <Operand.RDI: 0>, <Operand.RSI: 1>)),\n",
       " (2, (<Instruction.MOV: 0>, <Operand.RDI: 0>, <Operand.RAX: 2>)),\n",
       " (3, (<Instruction.MOV: 0>, <Operand.RSI: 1>, <Operand.RDI: 0>)),\n",
       " (4, (<Instruction.MOV: 0>, <Operand.RSI: 1>, <Operand.RSI: 1>)),\n",
       " (5, (<Instruction.MOV: 0>, <Operand.RSI: 1>, <Operand.RAX: 2>)),\n",
       " (6, (<Instruction.MOV: 0>, <Operand.RAX: 2>, <Operand.RDI: 0>)),\n",
       " (7, (<Instruction.MOV: 0>, <Operand.RAX: 2>, <Operand.RSI: 1>)),\n",
       " (8, (<Instruction.MOV: 0>, <Operand.RAX: 2>, <Operand.RAX: 2>)),\n",
       " (9, (<Instruction.CMP: 1>, <Operand.RDI: 0>, <Operand.RDI: 0>)),\n",
       " (10, (<Instruction.CMP: 1>, <Operand.RDI: 0>, <Operand.RSI: 1>)),\n",
       " (11, (<Instruction.CMP: 1>, <Operand.RDI: 0>, <Operand.RAX: 2>)),\n",
       " (12, (<Instruction.CMP: 1>, <Operand.RSI: 1>, <Operand.RDI: 0>)),\n",
       " (13, (<Instruction.CMP: 1>, <Operand.RSI: 1>, <Operand.RSI: 1>)),\n",
       " (14, (<Instruction.CMP: 1>, <Operand.RSI: 1>, <Operand.RAX: 2>)),\n",
       " (15, (<Instruction.CMP: 1>, <Operand.RAX: 2>, <Operand.RDI: 0>)),\n",
       " (16, (<Instruction.CMP: 1>, <Operand.RAX: 2>, <Operand.RSI: 1>)),\n",
       " (17, (<Instruction.CMP: 1>, <Operand.RAX: 2>, <Operand.RAX: 2>)),\n",
       " (18, (<Instruction.CMOVG: 2>, <Operand.RDI: 0>, <Operand.RDI: 0>)),\n",
       " (19, (<Instruction.CMOVG: 2>, <Operand.RDI: 0>, <Operand.RSI: 1>)),\n",
       " (20, (<Instruction.CMOVG: 2>, <Operand.RDI: 0>, <Operand.RAX: 2>)),\n",
       " (21, (<Instruction.CMOVG: 2>, <Operand.RSI: 1>, <Operand.RDI: 0>)),\n",
       " (22, (<Instruction.CMOVG: 2>, <Operand.RSI: 1>, <Operand.RSI: 1>)),\n",
       " (23, (<Instruction.CMOVG: 2>, <Operand.RSI: 1>, <Operand.RAX: 2>)),\n",
       " (24, (<Instruction.CMOVG: 2>, <Operand.RAX: 2>, <Operand.RDI: 0>)),\n",
       " (25, (<Instruction.CMOVG: 2>, <Operand.RAX: 2>, <Operand.RSI: 1>)),\n",
       " (26, (<Instruction.CMOVG: 2>, <Operand.RAX: 2>, <Operand.RAX: 2>)),\n",
       " (27, (<Instruction.RET: 3>,))]"
      ]
     },
     "execution_count": 5,
     "metadata": {},
     "output_type": "execute_result"
    }
   ],
   "source": [
    "from assembly_game.processor import Processor\n",
    "\n",
    "list(enumerate(Processor.actions))"
   ]
  },
  {
   "cell_type": "code",
   "execution_count": null,
   "metadata": {},
   "outputs": [
    {
     "data": {
      "text/plain": [
       "([1, 2, 1, 0, 2, 1, 2, 0], 9, False, False, {})"
      ]
     },
     "execution_count": 6,
     "metadata": {},
     "output_type": "execute_result"
    }
   ],
   "source": [
    "game.step(2) # MOV %rdi, %rax"
   ]
  },
  {
   "cell_type": "markdown",
   "metadata": {},
   "source": [
    "Let's now compare the value with the value in %rsi, if $rax happens to be greater then it must be the case that the value %rsi is minimum"
   ]
  },
  {
   "cell_type": "code",
   "execution_count": 7,
   "metadata": {},
   "outputs": [
    {
     "data": {
      "text/plain": [
       "([1, 2, 1, -1, 2, 1, 2, 1], 8, False, False, {})"
      ]
     },
     "execution_count": 7,
     "metadata": {},
     "output_type": "execute_result"
    }
   ],
   "source": [
    "game.step(14) # CMP $rsi, %rax"
   ]
  },
  {
   "cell_type": "markdown",
   "metadata": {},
   "source": [
    "After conditional move all testing examples are \"solved\", as we are getting reward of 20 and penalty of 3 instructions used"
   ]
  },
  {
   "cell_type": "code",
   "execution_count": 8,
   "metadata": {},
   "outputs": [
    {
     "data": {
      "text/plain": [
       "([1, 2, 1, -1, 2, 1, 1, 1], 17, False, False, {})"
      ]
     },
     "execution_count": 8,
     "metadata": {},
     "output_type": "execute_result"
    }
   ],
   "source": [
    "game.step(23) # CMOVG %rsi, %rax"
   ]
  },
  {
   "cell_type": "markdown",
   "metadata": {},
   "source": [
    "Lastly we need to run the RET instructions to observe value of terminated=True"
   ]
  },
  {
   "cell_type": "code",
   "execution_count": 9,
   "metadata": {},
   "outputs": [
    {
     "data": {
      "text/plain": [
       "([1, 2, 1, -1, 2, 1, 1, 1], 16, True, False, {})"
      ]
     },
     "execution_count": 9,
     "metadata": {},
     "output_type": "execute_result"
    }
   ],
   "source": [
    "game.step(27) # RET"
   ]
  },
  {
   "cell_type": "markdown",
   "metadata": {},
   "source": [
    "# Now let's see how to add timelimit to the environment"
   ]
  },
  {
   "cell_type": "code",
   "execution_count": 10,
   "metadata": {},
   "outputs": [],
   "source": [
    "game = gym.make(\"Min2Game\", max_episode_steps=4)"
   ]
  },
  {
   "cell_type": "code",
   "execution_count": null,
   "metadata": {},
   "outputs": [
    {
     "data": {
      "text/plain": [
       "([(1, 2, 1, 0), (2, 1, 2, 0)], 9, False, False, {})"
      ]
     },
     "execution_count": 16,
     "metadata": {},
     "output_type": "execute_result"
    }
   ],
   "source": [
    "game.reset()\n",
    "DUMMY = (0)\n",
    "game.step(DUMMY)"
   ]
  },
  {
   "cell_type": "markdown",
   "metadata": {},
   "source": [
    "After 4 steps the truncated is being set to True, indicating that the episode has ended due to the time limit."
   ]
  },
  {
   "cell_type": "code",
   "execution_count": 18,
   "metadata": {},
   "outputs": [
    {
     "data": {
      "text/plain": [
       "([(1, 2, 1, 0), (2, 1, 2, 0)], 4, False, True, {})"
      ]
     },
     "execution_count": 18,
     "metadata": {},
     "output_type": "execute_result"
    }
   ],
   "source": [
    "game.step(DUMMY)\n",
    "game.step(DUMMY)\n",
    "game.step(DUMMY)"
   ]
  }
 ],
 "metadata": {
  "kernelspec": {
   "display_name": ".venv",
   "language": "python",
   "name": "python3"
  },
  "language_info": {
   "codemirror_mode": {
    "name": "ipython",
    "version": 3
   },
   "file_extension": ".py",
   "mimetype": "text/x-python",
   "name": "python",
   "nbconvert_exporter": "python",
   "pygments_lexer": "ipython3",
   "version": "3.11.2"
  }
 },
 "nbformat": 4,
 "nbformat_minor": 2
}
