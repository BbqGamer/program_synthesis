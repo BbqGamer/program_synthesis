{
 "cells": [
  {
   "cell_type": "code",
   "execution_count": 1,
   "metadata": {},
   "outputs": [
    {
     "data": {
      "text/plain": [
       "(array([1, 2, 0, 0, 2, 1, 0, 0]), {})"
      ]
     },
     "execution_count": 1,
     "metadata": {},
     "output_type": "execute_result"
    }
   ],
   "source": [
    "import gymnasium as gym\n",
    "import assembly_game\n",
    "\n",
    "game = gym.make(\"Min2Game\")\n",
    "\n",
    "game.reset()"
   ]
  },
  {
   "cell_type": "markdown",
   "metadata": {},
   "source": [
    "Let's first move the value from %rdi to the return value (%rax), as you can see we immediately get reward of 10 because in one training example result is in the correct spot \\\n",
    "we are getting however the penalty of 1 for every timestep."
   ]
  },
  {
   "cell_type": "code",
   "execution_count": 2,
   "metadata": {},
   "outputs": [
    {
     "data": {
      "text/plain": [
       "[(0, (<Instruction.MOV: 0>, <Operand.RDI: 0>, <Operand.RDI: 0>)),\n",
       " (1, (<Instruction.MOV: 0>, <Operand.RDI: 0>, <Operand.RSI: 1>)),\n",
       " (2, (<Instruction.MOV: 0>, <Operand.RDI: 0>, <Operand.RAX: 2>)),\n",
       " (3, (<Instruction.MOV: 0>, <Operand.RSI: 1>, <Operand.RDI: 0>)),\n",
       " (4, (<Instruction.MOV: 0>, <Operand.RSI: 1>, <Operand.RSI: 1>)),\n",
       " (5, (<Instruction.MOV: 0>, <Operand.RSI: 1>, <Operand.RAX: 2>)),\n",
       " (6, (<Instruction.MOV: 0>, <Operand.RAX: 2>, <Operand.RDI: 0>)),\n",
       " (7, (<Instruction.MOV: 0>, <Operand.RAX: 2>, <Operand.RSI: 1>)),\n",
       " (8, (<Instruction.MOV: 0>, <Operand.RAX: 2>, <Operand.RAX: 2>)),\n",
       " (9, (<Instruction.CMP: 1>, <Operand.RDI: 0>, <Operand.RDI: 0>)),\n",
       " (10, (<Instruction.CMP: 1>, <Operand.RDI: 0>, <Operand.RSI: 1>)),\n",
       " (11, (<Instruction.CMP: 1>, <Operand.RDI: 0>, <Operand.RAX: 2>)),\n",
       " (12, (<Instruction.CMP: 1>, <Operand.RSI: 1>, <Operand.RDI: 0>)),\n",
       " (13, (<Instruction.CMP: 1>, <Operand.RSI: 1>, <Operand.RSI: 1>)),\n",
       " (14, (<Instruction.CMP: 1>, <Operand.RSI: 1>, <Operand.RAX: 2>)),\n",
       " (15, (<Instruction.CMP: 1>, <Operand.RAX: 2>, <Operand.RDI: 0>)),\n",
       " (16, (<Instruction.CMP: 1>, <Operand.RAX: 2>, <Operand.RSI: 1>)),\n",
       " (17, (<Instruction.CMP: 1>, <Operand.RAX: 2>, <Operand.RAX: 2>)),\n",
       " (18, (<Instruction.CMOVG: 2>, <Operand.RDI: 0>, <Operand.RDI: 0>)),\n",
       " (19, (<Instruction.CMOVG: 2>, <Operand.RDI: 0>, <Operand.RSI: 1>)),\n",
       " (20, (<Instruction.CMOVG: 2>, <Operand.RDI: 0>, <Operand.RAX: 2>)),\n",
       " (21, (<Instruction.CMOVG: 2>, <Operand.RSI: 1>, <Operand.RDI: 0>)),\n",
       " (22, (<Instruction.CMOVG: 2>, <Operand.RSI: 1>, <Operand.RSI: 1>)),\n",
       " (23, (<Instruction.CMOVG: 2>, <Operand.RSI: 1>, <Operand.RAX: 2>)),\n",
       " (24, (<Instruction.CMOVG: 2>, <Operand.RAX: 2>, <Operand.RDI: 0>)),\n",
       " (25, (<Instruction.CMOVG: 2>, <Operand.RAX: 2>, <Operand.RSI: 1>)),\n",
       " (26, (<Instruction.CMOVG: 2>, <Operand.RAX: 2>, <Operand.RAX: 2>)),\n",
       " (27, (<Instruction.RET: 3>,))]"
      ]
     },
     "execution_count": 2,
     "metadata": {},
     "output_type": "execute_result"
    }
   ],
   "source": [
    "from assembly_game.processor import PROCESSOR_ACTIONS\n",
    "\n",
    "list(enumerate(PROCESSOR_ACTIONS))"
   ]
  },
  {
   "cell_type": "code",
   "execution_count": 3,
   "metadata": {},
   "outputs": [
    {
     "data": {
      "text/plain": [
       "(array([1, 2, 1, 0, 2, 1, 2, 0]),\n",
       " 1,\n",
       " False,\n",
       " False,\n",
       " {'example_0': 'rdi=1 rsi=2 rax=1 cmp_res=0',\n",
       "  'example_1': 'rdi=2 rsi=1 rax=2 cmp_res=0'})"
      ]
     },
     "execution_count": 3,
     "metadata": {},
     "output_type": "execute_result"
    }
   ],
   "source": [
    "game.step(2) # MOV %rdi, %rax"
   ]
  },
  {
   "cell_type": "markdown",
   "metadata": {},
   "source": [
    "Let's now compare the value with the value in %rsi, if $rax happens to be greater then it must be the case that the value %rsi is minimum"
   ]
  },
  {
   "cell_type": "code",
   "execution_count": 4,
   "metadata": {},
   "outputs": [
    {
     "data": {
      "text/plain": [
       "(array([ 1,  2,  1, -1,  2,  1,  2,  1]),\n",
       " 0,\n",
       " False,\n",
       " False,\n",
       " {'example_0': 'rdi=1 rsi=2 rax=1 cmp_res=-1',\n",
       "  'example_1': 'rdi=2 rsi=1 rax=2 cmp_res=1'})"
      ]
     },
     "execution_count": 4,
     "metadata": {},
     "output_type": "execute_result"
    }
   ],
   "source": [
    "game.step(14) # CMP $rsi, %rax"
   ]
  },
  {
   "cell_type": "markdown",
   "metadata": {},
   "source": [
    "After conditional move all testing examples are \"solved\", as we are getting reward of 20 and penalty of 3 instructions used"
   ]
  },
  {
   "cell_type": "code",
   "execution_count": 5,
   "metadata": {},
   "outputs": [
    {
     "data": {
      "text/plain": [
       "(array([ 1,  2,  1, -1,  2,  1,  1,  1]),\n",
       " 11,\n",
       " False,\n",
       " False,\n",
       " {'example_0': 'rdi=1 rsi=2 rax=1 cmp_res=-1',\n",
       "  'example_1': 'rdi=2 rsi=1 rax=1 cmp_res=1'})"
      ]
     },
     "execution_count": 5,
     "metadata": {},
     "output_type": "execute_result"
    }
   ],
   "source": [
    "game.step(23) # CMOVG %rsi, %rax"
   ]
  },
  {
   "cell_type": "markdown",
   "metadata": {},
   "source": [
    "Lastly we need to run the RET instructions to observe value of terminated=True"
   ]
  },
  {
   "cell_type": "code",
   "execution_count": 6,
   "metadata": {},
   "outputs": [
    {
     "data": {
      "text/plain": [
       "(array([ 1,  2,  1, -1,  2,  1,  1,  1]),\n",
       " 10,\n",
       " True,\n",
       " False,\n",
       " {'example_0': 'rdi=1 rsi=2 rax=1 cmp_res=-1',\n",
       "  'example_1': 'rdi=2 rsi=1 rax=1 cmp_res=1'})"
      ]
     },
     "execution_count": 6,
     "metadata": {},
     "output_type": "execute_result"
    }
   ],
   "source": [
    "game.step(27) # RET"
   ]
  },
  {
   "cell_type": "markdown",
   "metadata": {},
   "source": [
    "# Now let's see how to add timelimit to the environment"
   ]
  },
  {
   "cell_type": "code",
   "execution_count": 7,
   "metadata": {},
   "outputs": [],
   "source": [
    "game = gym.make(\"Min2Game\", max_episode_steps=4)"
   ]
  },
  {
   "cell_type": "code",
   "execution_count": 8,
   "metadata": {},
   "outputs": [
    {
     "data": {
      "text/plain": [
       "(array([1, 2, 0, 0, 2, 1, 0, 0]),\n",
       " 0,\n",
       " False,\n",
       " False,\n",
       " {'example_0': 'rdi=1 rsi=2 rax=0 cmp_res=0',\n",
       "  'example_1': 'rdi=2 rsi=1 rax=0 cmp_res=0'})"
      ]
     },
     "execution_count": 8,
     "metadata": {},
     "output_type": "execute_result"
    }
   ],
   "source": [
    "game.reset()\n",
    "DUMMY = (0)\n",
    "game.step(DUMMY)"
   ]
  },
  {
   "cell_type": "markdown",
   "metadata": {},
   "source": [
    "After 4 steps the truncated is being set to True, indicating that the episode has ended due to the time limit."
   ]
  },
  {
   "cell_type": "code",
   "execution_count": 9,
   "metadata": {},
   "outputs": [
    {
     "data": {
      "text/plain": [
       "(array([1, 2, 0, 0, 2, 1, 0, 0]),\n",
       " 0,\n",
       " False,\n",
       " True,\n",
       " {'example_0': 'rdi=1 rsi=2 rax=0 cmp_res=0',\n",
       "  'example_1': 'rdi=2 rsi=1 rax=0 cmp_res=0'})"
      ]
     },
     "execution_count": 9,
     "metadata": {},
     "output_type": "execute_result"
    }
   ],
   "source": [
    "game.step(DUMMY)\n",
    "game.step(DUMMY)\n",
    "game.step(DUMMY)"
   ]
  },
  {
   "cell_type": "markdown",
   "metadata": {},
   "source": [
    "Using a test Model"
   ]
  },
  {
   "cell_type": "code",
   "execution_count": 10,
   "metadata": {},
   "outputs": [],
   "source": [
    "from stable_baselines3 import A2C\n"
   ]
  },
  {
   "cell_type": "code",
   "execution_count": 11,
   "metadata": {},
   "outputs": [],
   "source": [
    "env = gym.make('Min2Game',    max_episode_steps=20)"
   ]
  },
  {
   "cell_type": "code",
   "execution_count": 12,
   "metadata": {},
   "outputs": [],
   "source": [
    "MAX_STEPS = 100"
   ]
  },
  {
   "cell_type": "code",
   "execution_count": 13,
   "metadata": {},
   "outputs": [
    {
     "name": "stdout",
     "output_type": "stream",
     "text": [
      "Using cuda device\n",
      "Wrapping the env with a `Monitor` wrapper\n",
      "Wrapping the env in a DummyVecEnv.\n"
     ]
    },
    {
     "name": "stderr",
     "output_type": "stream",
     "text": [
      "/home/konstanty/STUDIA/masters_1_sem/program_synthesis/.venv/lib/python3.12/site-packages/stable_baselines3/common/on_policy_algorithm.py:150: UserWarning: You are trying to run A2C on the GPU, but it is primarily intended to run on the CPU when not using a CNN policy (you are using ActorCriticPolicy which should be a MlpPolicy). See https://github.com/DLR-RM/stable-baselines3/issues/1245 for more info. You can pass `device='cpu'` or `export CUDA_VISIBLE_DEVICES=` to force using the CPU.Note: The model will train, but the GPU utilization will be poor and the training might take longer than on CPU.\n",
      "  warnings.warn(\n"
     ]
    },
    {
     "name": "stdout",
     "output_type": "stream",
     "text": [
      "-------------------------------------\n",
      "| rollout/              |           |\n",
      "|    ep_len_mean        | 14.3      |\n",
      "|    ep_rew_mean        | 0.657     |\n",
      "| time/                 |           |\n",
      "|    fps                | 145       |\n",
      "|    iterations         | 100       |\n",
      "|    time_elapsed       | 3         |\n",
      "|    total_timesteps    | 500       |\n",
      "| train/                |           |\n",
      "|    entropy_loss       | -3.09     |\n",
      "|    explained_variance | -2.39e+03 |\n",
      "|    learning_rate      | 0.0007    |\n",
      "|    n_updates          | 99        |\n",
      "|    policy_loss        | 0.0398    |\n",
      "|    value_loss         | 0.000811  |\n",
      "-------------------------------------\n",
      "------------------------------------\n",
      "| rollout/              |          |\n",
      "|    ep_len_mean        | 15       |\n",
      "|    ep_rew_mean        | 0.788    |\n",
      "| time/                 |          |\n",
      "|    fps                | 172      |\n",
      "|    iterations         | 200      |\n",
      "|    time_elapsed       | 5        |\n",
      "|    total_timesteps    | 1000     |\n",
      "| train/                |          |\n",
      "|    entropy_loss       | -2.74    |\n",
      "|    explained_variance | 0.999    |\n",
      "|    learning_rate      | 0.0007   |\n",
      "|    n_updates          | 199      |\n",
      "|    policy_loss        | -0.0516  |\n",
      "|    value_loss         | 0.000494 |\n",
      "------------------------------------\n",
      "------------------------------------\n",
      "| rollout/              |          |\n",
      "|    ep_len_mean        | 16.2     |\n",
      "|    ep_rew_mean        | 0.848    |\n",
      "| time/                 |          |\n",
      "|    fps                | 183      |\n",
      "|    iterations         | 300      |\n",
      "|    time_elapsed       | 8        |\n",
      "|    total_timesteps    | 1500     |\n",
      "| train/                |          |\n",
      "|    entropy_loss       | -1.98    |\n",
      "|    explained_variance | 1        |\n",
      "|    learning_rate      | 0.0007   |\n",
      "|    n_updates          | 299      |\n",
      "|    policy_loss        | 0.00328  |\n",
      "|    value_loss         | 8.47e-05 |\n",
      "------------------------------------\n",
      "------------------------------------\n",
      "| rollout/              |          |\n",
      "|    ep_len_mean        | 17.5     |\n",
      "|    ep_rew_mean        | 1.15     |\n",
      "| time/                 |          |\n",
      "|    fps                | 189      |\n",
      "|    iterations         | 400      |\n",
      "|    time_elapsed       | 10       |\n",
      "|    total_timesteps    | 2000     |\n",
      "| train/                |          |\n",
      "|    entropy_loss       | -1.96    |\n",
      "|    explained_variance | -497     |\n",
      "|    learning_rate      | 0.0007   |\n",
      "|    n_updates          | 399      |\n",
      "|    policy_loss        | 0.0388   |\n",
      "|    value_loss         | 0.000471 |\n",
      "------------------------------------\n",
      "------------------------------------\n",
      "| rollout/              |          |\n",
      "|    ep_len_mean        | 18.7     |\n",
      "|    ep_rew_mean        | 1.5      |\n",
      "| time/                 |          |\n",
      "|    fps                | 193      |\n",
      "|    iterations         | 500      |\n",
      "|    time_elapsed       | 12       |\n",
      "|    total_timesteps    | 2500     |\n",
      "| train/                |          |\n",
      "|    entropy_loss       | -2       |\n",
      "|    explained_variance | 0.986    |\n",
      "|    learning_rate      | 0.0007   |\n",
      "|    n_updates          | 499      |\n",
      "|    policy_loss        | 0.0203   |\n",
      "|    value_loss         | 0.00307  |\n",
      "------------------------------------\n",
      "------------------------------------\n",
      "| rollout/              |          |\n",
      "|    ep_len_mean        | 18.7     |\n",
      "|    ep_rew_mean        | 1.49     |\n",
      "| time/                 |          |\n",
      "|    fps                | 194      |\n",
      "|    iterations         | 600      |\n",
      "|    time_elapsed       | 15       |\n",
      "|    total_timesteps    | 3000     |\n",
      "| train/                |          |\n",
      "|    entropy_loss       | -2.1     |\n",
      "|    explained_variance | 0        |\n",
      "|    learning_rate      | 0.0007   |\n",
      "|    n_updates          | 599      |\n",
      "|    policy_loss        | 0.00531  |\n",
      "|    value_loss         | 2e-05    |\n",
      "------------------------------------\n",
      "-------------------------------------\n",
      "| rollout/              |           |\n",
      "|    ep_len_mean        | 18.7      |\n",
      "|    ep_rew_mean        | 1.49      |\n",
      "| time/                 |           |\n",
      "|    fps                | 196       |\n",
      "|    iterations         | 700       |\n",
      "|    time_elapsed       | 17        |\n",
      "|    total_timesteps    | 3500      |\n",
      "| train/                |           |\n",
      "|    entropy_loss       | -2.38     |\n",
      "|    explained_variance | -1.19e-07 |\n",
      "|    learning_rate      | 0.0007    |\n",
      "|    n_updates          | 699       |\n",
      "|    policy_loss        | 0.00119   |\n",
      "|    value_loss         | 1.26e-06  |\n",
      "-------------------------------------\n",
      "-------------------------------------\n",
      "| rollout/              |           |\n",
      "|    ep_len_mean        | 18        |\n",
      "|    ep_rew_mean        | 1.38      |\n",
      "| time/                 |           |\n",
      "|    fps                | 199       |\n",
      "|    iterations         | 800       |\n",
      "|    time_elapsed       | 20        |\n",
      "|    total_timesteps    | 4000      |\n",
      "| train/                |           |\n",
      "|    entropy_loss       | -1.71     |\n",
      "|    explained_variance | 0         |\n",
      "|    learning_rate      | 0.0007    |\n",
      "|    n_updates          | 799       |\n",
      "|    policy_loss        | -0.000474 |\n",
      "|    value_loss         | 1.48e-06  |\n",
      "-------------------------------------\n",
      "------------------------------------\n",
      "| rollout/              |          |\n",
      "|    ep_len_mean        | 18.3     |\n",
      "|    ep_rew_mean        | 1.19     |\n",
      "| time/                 |          |\n",
      "|    fps                | 202      |\n",
      "|    iterations         | 900      |\n",
      "|    time_elapsed       | 22       |\n",
      "|    total_timesteps    | 4500     |\n",
      "| train/                |          |\n",
      "|    entropy_loss       | -2.53    |\n",
      "|    explained_variance | 0.402    |\n",
      "|    learning_rate      | 0.0007   |\n",
      "|    n_updates          | 899      |\n",
      "|    policy_loss        | -0.00966 |\n",
      "|    value_loss         | 5.76e-05 |\n",
      "------------------------------------\n",
      "------------------------------------\n",
      "| rollout/              |          |\n",
      "|    ep_len_mean        | 18.3     |\n",
      "|    ep_rew_mean        | 1.5      |\n",
      "| time/                 |          |\n",
      "|    fps                | 205      |\n",
      "|    iterations         | 1000     |\n",
      "|    time_elapsed       | 24       |\n",
      "|    total_timesteps    | 5000     |\n",
      "| train/                |          |\n",
      "|    entropy_loss       | -1.94    |\n",
      "|    explained_variance | 0.998    |\n",
      "|    learning_rate      | 0.0007   |\n",
      "|    n_updates          | 999      |\n",
      "|    policy_loss        | -0.00466 |\n",
      "|    value_loss         | 0.000346 |\n",
      "------------------------------------\n",
      "------------------------------------\n",
      "| rollout/              |          |\n",
      "|    ep_len_mean        | 18.5     |\n",
      "|    ep_rew_mean        | 2.08     |\n",
      "| time/                 |          |\n",
      "|    fps                | 207      |\n",
      "|    iterations         | 1100     |\n",
      "|    time_elapsed       | 26       |\n",
      "|    total_timesteps    | 5500     |\n",
      "| train/                |          |\n",
      "|    entropy_loss       | -2.92    |\n",
      "|    explained_variance | -518     |\n",
      "|    learning_rate      | 0.0007   |\n",
      "|    n_updates          | 1099     |\n",
      "|    policy_loss        | -0.0231  |\n",
      "|    value_loss         | 0.000652 |\n",
      "------------------------------------\n",
      "------------------------------------\n",
      "| rollout/              |          |\n",
      "|    ep_len_mean        | 18.2     |\n",
      "|    ep_rew_mean        | 6.22     |\n",
      "| time/                 |          |\n",
      "|    fps                | 208      |\n",
      "|    iterations         | 1200     |\n",
      "|    time_elapsed       | 28       |\n",
      "|    total_timesteps    | 6000     |\n",
      "| train/                |          |\n",
      "|    entropy_loss       | -3.19    |\n",
      "|    explained_variance | -68.7    |\n",
      "|    learning_rate      | 0.0007   |\n",
      "|    n_updates          | 1199     |\n",
      "|    policy_loss        | 0.108    |\n",
      "|    value_loss         | 0.00939  |\n",
      "------------------------------------\n",
      "------------------------------------\n",
      "| rollout/              |          |\n",
      "|    ep_len_mean        | 17.7     |\n",
      "|    ep_rew_mean        | 9.85     |\n",
      "| time/                 |          |\n",
      "|    fps                | 210      |\n",
      "|    iterations         | 1300     |\n",
      "|    time_elapsed       | 30       |\n",
      "|    total_timesteps    | 6500     |\n",
      "| train/                |          |\n",
      "|    entropy_loss       | -2.78    |\n",
      "|    explained_variance | 0.99     |\n",
      "|    learning_rate      | 0.0007   |\n",
      "|    n_updates          | 1299     |\n",
      "|    policy_loss        | 0.248    |\n",
      "|    value_loss         | 0.0111   |\n",
      "------------------------------------\n",
      "------------------------------------\n",
      "| rollout/              |          |\n",
      "|    ep_len_mean        | 17.5     |\n",
      "|    ep_rew_mean        | 17       |\n",
      "| time/                 |          |\n",
      "|    fps                | 211      |\n",
      "|    iterations         | 1400     |\n",
      "|    time_elapsed       | 33       |\n",
      "|    total_timesteps    | 7000     |\n",
      "| train/                |          |\n",
      "|    entropy_loss       | -2.15    |\n",
      "|    explained_variance | 0        |\n",
      "|    learning_rate      | 0.0007   |\n",
      "|    n_updates          | 1399     |\n",
      "|    policy_loss        | 40.1     |\n",
      "|    value_loss         | 1.05e+03 |\n",
      "------------------------------------\n",
      "------------------------------------\n",
      "| rollout/              |          |\n",
      "|    ep_len_mean        | 17.8     |\n",
      "|    ep_rew_mean        | 33.1     |\n",
      "| time/                 |          |\n",
      "|    fps                | 213      |\n",
      "|    iterations         | 1500     |\n",
      "|    time_elapsed       | 35       |\n",
      "|    total_timesteps    | 7500     |\n",
      "| train/                |          |\n",
      "|    entropy_loss       | -1.7     |\n",
      "|    explained_variance | -0.0585  |\n",
      "|    learning_rate      | 0.0007   |\n",
      "|    n_updates          | 1499     |\n",
      "|    policy_loss        | 10.6     |\n",
      "|    value_loss         | 247      |\n",
      "------------------------------------\n",
      "------------------------------------\n",
      "| rollout/              |          |\n",
      "|    ep_len_mean        | 18.8     |\n",
      "|    ep_rew_mean        | 48.6     |\n",
      "| time/                 |          |\n",
      "|    fps                | 214      |\n",
      "|    iterations         | 1600     |\n",
      "|    time_elapsed       | 37       |\n",
      "|    total_timesteps    | 8000     |\n",
      "| train/                |          |\n",
      "|    entropy_loss       | -1.25    |\n",
      "|    explained_variance | -0.586   |\n",
      "|    learning_rate      | 0.0007   |\n",
      "|    n_updates          | 1599     |\n",
      "|    policy_loss        | -3.28    |\n",
      "|    value_loss         | 1.85     |\n",
      "------------------------------------\n",
      "------------------------------------\n",
      "| rollout/              |          |\n",
      "|    ep_len_mean        | 19.3     |\n",
      "|    ep_rew_mean        | 78       |\n",
      "| time/                 |          |\n",
      "|    fps                | 214      |\n",
      "|    iterations         | 1700     |\n",
      "|    time_elapsed       | 39       |\n",
      "|    total_timesteps    | 8500     |\n",
      "| train/                |          |\n",
      "|    entropy_loss       | -1.32    |\n",
      "|    explained_variance | -0.00107 |\n",
      "|    learning_rate      | 0.0007   |\n",
      "|    n_updates          | 1699     |\n",
      "|    policy_loss        | 57.6     |\n",
      "|    value_loss         | 1.04e+03 |\n",
      "------------------------------------\n",
      "------------------------------------\n",
      "| rollout/              |          |\n",
      "|    ep_len_mean        | 19.7     |\n",
      "|    ep_rew_mean        | 99.8     |\n",
      "| time/                 |          |\n",
      "|    fps                | 214      |\n",
      "|    iterations         | 1800     |\n",
      "|    time_elapsed       | 41       |\n",
      "|    total_timesteps    | 9000     |\n",
      "| train/                |          |\n",
      "|    entropy_loss       | -1.47    |\n",
      "|    explained_variance | 0.00593  |\n",
      "|    learning_rate      | 0.0007   |\n",
      "|    n_updates          | 1799     |\n",
      "|    policy_loss        | 109      |\n",
      "|    value_loss         | 1.03e+03 |\n",
      "------------------------------------\n",
      "------------------------------------\n",
      "| rollout/              |          |\n",
      "|    ep_len_mean        | 19.9     |\n",
      "|    ep_rew_mean        | 118      |\n",
      "| time/                 |          |\n",
      "|    fps                | 214      |\n",
      "|    iterations         | 1900     |\n",
      "|    time_elapsed       | 44       |\n",
      "|    total_timesteps    | 9500     |\n",
      "| train/                |          |\n",
      "|    entropy_loss       | -1.3     |\n",
      "|    explained_variance | 0.000175 |\n",
      "|    learning_rate      | 0.0007   |\n",
      "|    n_updates          | 1899     |\n",
      "|    policy_loss        | 46.5     |\n",
      "|    value_loss         | 1.02e+03 |\n",
      "------------------------------------\n",
      "------------------------------------\n",
      "| rollout/              |          |\n",
      "|    ep_len_mean        | 19.9     |\n",
      "|    ep_rew_mean        | 131      |\n",
      "| time/                 |          |\n",
      "|    fps                | 214      |\n",
      "|    iterations         | 2000     |\n",
      "|    time_elapsed       | 46       |\n",
      "|    total_timesteps    | 10000    |\n",
      "| train/                |          |\n",
      "|    entropy_loss       | -1.39    |\n",
      "|    explained_variance | 0.000287 |\n",
      "|    learning_rate      | 0.0007   |\n",
      "|    n_updates          | 1999     |\n",
      "|    policy_loss        | 26.5     |\n",
      "|    value_loss         | 1.02e+03 |\n",
      "------------------------------------\n"
     ]
    }
   ],
   "source": [
    "model = A2C(\"MlpPolicy\", env, verbose=1)\n",
    "model.learn(total_timesteps=10000)\n",
    "\n",
    "vec_env = model.get_env()\n",
    "obs = vec_env.reset()\n"
   ]
  },
  {
   "cell_type": "code",
   "execution_count": 14,
   "metadata": {},
   "outputs": [
    {
     "name": "stdout",
     "output_type": "stream",
     "text": [
      "(<Instruction.MOV: 0>, <Operand.RSI: 1>, <Operand.RAX: 2>) {'example_0': 'rdi=1 rsi=2 rax=2 cmp_res=0', 'example_1': 'rdi=2 rsi=1 rax=1 cmp_res=0'} 1\n",
      "(<Instruction.CMP: 1>, <Operand.RAX: 2>, <Operand.RSI: 1>) {'example_0': 'rdi=1 rsi=2 rax=2 cmp_res=0', 'example_1': 'rdi=2 rsi=1 rax=1 cmp_res=0'} 0\n",
      "(<Instruction.CMOVG: 2>, <Operand.RDI: 0>, <Operand.RAX: 2>) {'example_0': 'rdi=1 rsi=2 rax=2 cmp_res=0', 'example_1': 'rdi=2 rsi=1 rax=1 cmp_res=0'} 0\n",
      "(<Instruction.CMP: 1>, <Operand.RDI: 0>, <Operand.RAX: 2>) {'example_0': 'rdi=1 rsi=2 rax=2 cmp_res=1', 'example_1': 'rdi=2 rsi=1 rax=1 cmp_res=-1'} 0\n",
      "(<Instruction.CMOVG: 2>, <Operand.RDI: 0>, <Operand.RAX: 2>) {'example_0': 'rdi=1 rsi=2 rax=1 cmp_res=1', 'example_1': 'rdi=2 rsi=1 rax=1 cmp_res=-1'} 11\n",
      "(<Instruction.CMOVG: 2>, <Operand.RDI: 0>, <Operand.RAX: 2>) {'example_0': 'rdi=1 rsi=2 rax=1 cmp_res=1', 'example_1': 'rdi=2 rsi=1 rax=1 cmp_res=-1'} 10\n",
      "(<Instruction.CMP: 1>, <Operand.RDI: 0>, <Operand.RAX: 2>) {'example_0': 'rdi=1 rsi=2 rax=1 cmp_res=0', 'example_1': 'rdi=2 rsi=1 rax=1 cmp_res=-1'} 10\n",
      "(<Instruction.CMOVG: 2>, <Operand.RSI: 1>, <Operand.RSI: 1>) {'example_0': 'rdi=1 rsi=2 rax=1 cmp_res=0', 'example_1': 'rdi=2 rsi=1 rax=1 cmp_res=-1'} 10\n",
      "(<Instruction.CMOVG: 2>, <Operand.RDI: 0>, <Operand.RAX: 2>) {'example_0': 'rdi=1 rsi=2 rax=1 cmp_res=0', 'example_1': 'rdi=2 rsi=1 rax=1 cmp_res=-1'} 10\n",
      "(<Instruction.CMOVG: 2>, <Operand.RDI: 0>, <Operand.RAX: 2>) {'example_0': 'rdi=1 rsi=2 rax=1 cmp_res=0', 'example_1': 'rdi=2 rsi=1 rax=1 cmp_res=-1'} 10\n",
      "(<Instruction.CMP: 1>, <Operand.RDI: 0>, <Operand.RAX: 2>) {'example_0': 'rdi=1 rsi=2 rax=1 cmp_res=0', 'example_1': 'rdi=2 rsi=1 rax=1 cmp_res=-1'} 10\n",
      "(<Instruction.CMP: 1>, <Operand.RDI: 0>, <Operand.RAX: 2>) {'example_0': 'rdi=1 rsi=2 rax=1 cmp_res=0', 'example_1': 'rdi=2 rsi=1 rax=1 cmp_res=-1'} 10\n",
      "(<Instruction.CMOVG: 2>, <Operand.RDI: 0>, <Operand.RAX: 2>) {'example_0': 'rdi=1 rsi=2 rax=1 cmp_res=0', 'example_1': 'rdi=2 rsi=1 rax=1 cmp_res=-1'} 10\n",
      "(<Instruction.CMOVG: 2>, <Operand.RDI: 0>, <Operand.RAX: 2>) {'example_0': 'rdi=1 rsi=2 rax=1 cmp_res=0', 'example_1': 'rdi=2 rsi=1 rax=1 cmp_res=-1'} 10\n",
      "(<Instruction.CMP: 1>, <Operand.RDI: 0>, <Operand.RAX: 2>) {'example_0': 'rdi=1 rsi=2 rax=1 cmp_res=0', 'example_1': 'rdi=2 rsi=1 rax=1 cmp_res=-1'} 10\n",
      "(<Instruction.CMOVG: 2>, <Operand.RDI: 0>, <Operand.RAX: 2>) {'example_0': 'rdi=1 rsi=2 rax=1 cmp_res=0', 'example_1': 'rdi=2 rsi=1 rax=1 cmp_res=-1'} 10\n",
      "(<Instruction.CMP: 1>, <Operand.RDI: 0>, <Operand.RAX: 2>) {'example_0': 'rdi=1 rsi=2 rax=1 cmp_res=0', 'example_1': 'rdi=2 rsi=1 rax=1 cmp_res=-1'} 10\n",
      "(<Instruction.CMP: 1>, <Operand.RDI: 0>, <Operand.RSI: 1>) {'example_0': 'rdi=1 rsi=2 rax=1 cmp_res=1', 'example_1': 'rdi=2 rsi=1 rax=1 cmp_res=-1'} 10\n",
      "(<Instruction.CMOVG: 2>, <Operand.RDI: 0>, <Operand.RAX: 2>) {'example_0': 'rdi=1 rsi=2 rax=1 cmp_res=1', 'example_1': 'rdi=2 rsi=1 rax=1 cmp_res=-1'} 10\n",
      "(<Instruction.CMP: 1>, <Operand.RDI: 0>, <Operand.RAX: 2>) {'example_0': 'rdi=1 rsi=2 rax=1 cmp_res=0', 'example_1': 'rdi=2 rsi=1 rax=1 cmp_res=-1'} 10\n",
      "(<Instruction.CMOVG: 2>, <Operand.RDI: 0>, <Operand.RAX: 2>) {'example_0': 'rdi=1 rsi=2 rax=1 cmp_res=0', 'example_1': 'rdi=2 rsi=1 rax=1 cmp_res=-1'} 10\n",
      "(<Instruction.CMP: 1>, <Operand.RDI: 0>, <Operand.RAX: 2>) {'example_0': 'rdi=1 rsi=2 rax=1 cmp_res=0', 'example_1': 'rdi=2 rsi=1 rax=1 cmp_res=-1'} 10\n",
      "(<Instruction.CMP: 1>, <Operand.RDI: 0>, <Operand.RAX: 2>) {'example_0': 'rdi=1 rsi=2 rax=1 cmp_res=0', 'example_1': 'rdi=2 rsi=1 rax=1 cmp_res=-1'} 10\n",
      "(<Instruction.CMP: 1>, <Operand.RDI: 0>, <Operand.RAX: 2>) {'example_0': 'rdi=1 rsi=2 rax=1 cmp_res=0', 'example_1': 'rdi=2 rsi=1 rax=1 cmp_res=-1'} 10\n",
      "(<Instruction.CMP: 1>, <Operand.RDI: 0>, <Operand.RSI: 1>) {'example_0': 'rdi=1 rsi=2 rax=1 cmp_res=1', 'example_1': 'rdi=2 rsi=1 rax=1 cmp_res=-1'} 10\n",
      "(<Instruction.CMOVG: 2>, <Operand.RDI: 0>, <Operand.RAX: 2>) {'example_0': 'rdi=1 rsi=2 rax=1 cmp_res=1', 'example_1': 'rdi=2 rsi=1 rax=1 cmp_res=-1'} 10\n",
      "(<Instruction.CMOVG: 2>, <Operand.RDI: 0>, <Operand.RAX: 2>) {'example_0': 'rdi=1 rsi=2 rax=1 cmp_res=1', 'example_1': 'rdi=2 rsi=1 rax=1 cmp_res=-1'} 10\n",
      "(<Instruction.CMP: 1>, <Operand.RDI: 0>, <Operand.RAX: 2>) {'example_0': 'rdi=1 rsi=2 rax=1 cmp_res=0', 'example_1': 'rdi=2 rsi=1 rax=1 cmp_res=-1'} 10\n",
      "(<Instruction.CMP: 1>, <Operand.RAX: 2>, <Operand.RSI: 1>) {'example_0': 'rdi=1 rsi=2 rax=1 cmp_res=1', 'example_1': 'rdi=2 rsi=1 rax=1 cmp_res=0'} 10\n",
      "(<Instruction.CMP: 1>, <Operand.RDI: 0>, <Operand.RAX: 2>) {'example_0': 'rdi=1 rsi=2 rax=1 cmp_res=0', 'example_1': 'rdi=2 rsi=1 rax=1 cmp_res=-1'} 10\n",
      "(<Instruction.CMOVG: 2>, <Operand.RDI: 0>, <Operand.RAX: 2>) {'example_0': 'rdi=1 rsi=2 rax=1 cmp_res=0', 'example_1': 'rdi=2 rsi=1 rax=1 cmp_res=-1'} 10\n",
      "(<Instruction.CMOVG: 2>, <Operand.RDI: 0>, <Operand.RAX: 2>) {'example_0': 'rdi=1 rsi=2 rax=1 cmp_res=0', 'example_1': 'rdi=2 rsi=1 rax=1 cmp_res=-1'} 10\n",
      "(<Instruction.CMP: 1>, <Operand.RDI: 0>, <Operand.RAX: 2>) {'example_0': 'rdi=1 rsi=2 rax=1 cmp_res=0', 'example_1': 'rdi=2 rsi=1 rax=1 cmp_res=-1'} 10\n",
      "(<Instruction.CMP: 1>, <Operand.RDI: 0>, <Operand.RAX: 2>) {'example_0': 'rdi=1 rsi=2 rax=1 cmp_res=0', 'example_1': 'rdi=2 rsi=1 rax=1 cmp_res=-1'} 10\n",
      "(<Instruction.CMP: 1>, <Operand.RDI: 0>, <Operand.RAX: 2>) {'example_0': 'rdi=1 rsi=2 rax=1 cmp_res=0', 'example_1': 'rdi=2 rsi=1 rax=1 cmp_res=-1'} 10\n",
      "(<Instruction.CMOVG: 2>, <Operand.RDI: 0>, <Operand.RAX: 2>) {'example_0': 'rdi=1 rsi=2 rax=1 cmp_res=0', 'example_1': 'rdi=2 rsi=1 rax=1 cmp_res=-1'} 10\n",
      "(<Instruction.CMP: 1>, <Operand.RDI: 0>, <Operand.RAX: 2>) {'example_0': 'rdi=1 rsi=2 rax=1 cmp_res=0', 'example_1': 'rdi=2 rsi=1 rax=1 cmp_res=-1'} 10\n",
      "(<Instruction.CMOVG: 2>, <Operand.RDI: 0>, <Operand.RAX: 2>) {'example_0': 'rdi=1 rsi=2 rax=1 cmp_res=0', 'example_1': 'rdi=2 rsi=1 rax=1 cmp_res=-1'} 10\n",
      "(<Instruction.CMOVG: 2>, <Operand.RSI: 1>, <Operand.RSI: 1>) {'example_0': 'rdi=1 rsi=2 rax=1 cmp_res=0', 'example_1': 'rdi=2 rsi=1 rax=1 cmp_res=-1'} 10\n",
      "(<Instruction.CMP: 1>, <Operand.RDI: 0>, <Operand.RAX: 2>) {'example_0': 'rdi=1 rsi=2 rax=1 cmp_res=0', 'example_1': 'rdi=2 rsi=1 rax=1 cmp_res=-1'} 10\n",
      "(<Instruction.CMP: 1>, <Operand.RDI: 0>, <Operand.RSI: 1>) {'example_0': 'rdi=1 rsi=2 rax=1 cmp_res=1', 'example_1': 'rdi=2 rsi=1 rax=1 cmp_res=-1'} 10\n",
      "(<Instruction.CMP: 1>, <Operand.RDI: 0>, <Operand.RSI: 1>) {'example_0': 'rdi=1 rsi=2 rax=1 cmp_res=1', 'example_1': 'rdi=2 rsi=1 rax=1 cmp_res=-1'} 10\n",
      "(<Instruction.CMOVG: 2>, <Operand.RDI: 0>, <Operand.RAX: 2>) {'example_0': 'rdi=1 rsi=2 rax=1 cmp_res=1', 'example_1': 'rdi=2 rsi=1 rax=1 cmp_res=-1'} 10\n",
      "(<Instruction.CMOVG: 2>, <Operand.RDI: 0>, <Operand.RAX: 2>) {'example_0': 'rdi=1 rsi=2 rax=1 cmp_res=1', 'example_1': 'rdi=2 rsi=1 rax=1 cmp_res=-1'} 10\n",
      "(<Instruction.CMP: 1>, <Operand.RDI: 0>, <Operand.RAX: 2>) {'example_0': 'rdi=1 rsi=2 rax=1 cmp_res=0', 'example_1': 'rdi=2 rsi=1 rax=1 cmp_res=-1'} 10\n",
      "(<Instruction.CMP: 1>, <Operand.RDI: 0>, <Operand.RAX: 2>) {'example_0': 'rdi=1 rsi=2 rax=1 cmp_res=0', 'example_1': 'rdi=2 rsi=1 rax=1 cmp_res=-1'} 10\n",
      "(<Instruction.CMP: 1>, <Operand.RDI: 0>, <Operand.RSI: 1>) {'example_0': 'rdi=1 rsi=2 rax=1 cmp_res=1', 'example_1': 'rdi=2 rsi=1 rax=1 cmp_res=-1'} 10\n",
      "(<Instruction.MOV: 0>, <Operand.RSI: 1>, <Operand.RAX: 2>) {'example_0': 'rdi=1 rsi=2 rax=2 cmp_res=1', 'example_1': 'rdi=2 rsi=1 rax=1 cmp_res=-1'} -1\n",
      "(<Instruction.CMOVG: 2>, <Operand.RDI: 0>, <Operand.RAX: 2>) {'example_0': 'rdi=1 rsi=2 rax=1 cmp_res=1', 'example_1': 'rdi=2 rsi=1 rax=1 cmp_res=-1'} 11\n",
      "(<Instruction.CMOVG: 2>, <Operand.RDI: 0>, <Operand.RAX: 2>) {'example_0': 'rdi=1 rsi=2 rax=1 cmp_res=1', 'example_1': 'rdi=2 rsi=1 rax=1 cmp_res=-1'} 10\n",
      "(<Instruction.CMP: 1>, <Operand.RDI: 0>, <Operand.RAX: 2>) {'example_0': 'rdi=1 rsi=2 rax=1 cmp_res=0', 'example_1': 'rdi=2 rsi=1 rax=1 cmp_res=-1'} 10\n",
      "(<Instruction.CMOVG: 2>, <Operand.RDI: 0>, <Operand.RAX: 2>) {'example_0': 'rdi=1 rsi=2 rax=1 cmp_res=0', 'example_1': 'rdi=2 rsi=1 rax=1 cmp_res=-1'} 10\n",
      "(<Instruction.CMP: 1>, <Operand.RDI: 0>, <Operand.RAX: 2>) {'example_0': 'rdi=1 rsi=2 rax=1 cmp_res=0', 'example_1': 'rdi=2 rsi=1 rax=1 cmp_res=-1'} 10\n",
      "(<Instruction.CMOVG: 2>, <Operand.RDI: 0>, <Operand.RAX: 2>) {'example_0': 'rdi=1 rsi=2 rax=1 cmp_res=0', 'example_1': 'rdi=2 rsi=1 rax=1 cmp_res=-1'} 10\n",
      "(<Instruction.CMP: 1>, <Operand.RDI: 0>, <Operand.RAX: 2>) {'example_0': 'rdi=1 rsi=2 rax=1 cmp_res=0', 'example_1': 'rdi=2 rsi=1 rax=1 cmp_res=-1'} 10\n",
      "(<Instruction.CMP: 1>, <Operand.RDI: 0>, <Operand.RAX: 2>) {'example_0': 'rdi=1 rsi=2 rax=1 cmp_res=0', 'example_1': 'rdi=2 rsi=1 rax=1 cmp_res=-1'} 10\n",
      "(<Instruction.CMP: 1>, <Operand.RSI: 1>, <Operand.RDI: 0>) {'example_0': 'rdi=1 rsi=2 rax=1 cmp_res=-1', 'example_1': 'rdi=2 rsi=1 rax=1 cmp_res=1'} 10\n",
      "(<Instruction.CMP: 1>, <Operand.RAX: 2>, <Operand.RAX: 2>) {'example_0': 'rdi=1 rsi=2 rax=1 cmp_res=0', 'example_1': 'rdi=2 rsi=1 rax=1 cmp_res=0'} 10\n",
      "(<Instruction.CMP: 1>, <Operand.RDI: 0>, <Operand.RAX: 2>) {'example_0': 'rdi=1 rsi=2 rax=1 cmp_res=0', 'example_1': 'rdi=2 rsi=1 rax=1 cmp_res=-1'} 10\n",
      "(<Instruction.CMOVG: 2>, <Operand.RDI: 0>, <Operand.RAX: 2>) {'example_0': 'rdi=1 rsi=2 rax=1 cmp_res=0', 'example_1': 'rdi=2 rsi=1 rax=1 cmp_res=-1'} 10\n",
      "(<Instruction.CMP: 1>, <Operand.RDI: 0>, <Operand.RAX: 2>) {'example_0': 'rdi=1 rsi=2 rax=1 cmp_res=0', 'example_1': 'rdi=2 rsi=1 rax=1 cmp_res=-1'} 10\n",
      "(<Instruction.CMP: 1>, <Operand.RDI: 0>, <Operand.RAX: 2>) {'example_0': 'rdi=1 rsi=2 rax=1 cmp_res=0', 'example_1': 'rdi=2 rsi=1 rax=1 cmp_res=-1'} 10\n",
      "(<Instruction.CMP: 1>, <Operand.RDI: 0>, <Operand.RAX: 2>) {'example_0': 'rdi=1 rsi=2 rax=1 cmp_res=0', 'example_1': 'rdi=2 rsi=1 rax=1 cmp_res=-1'} 10\n",
      "(<Instruction.CMOVG: 2>, <Operand.RDI: 0>, <Operand.RAX: 2>) {'example_0': 'rdi=1 rsi=2 rax=1 cmp_res=0', 'example_1': 'rdi=2 rsi=1 rax=1 cmp_res=-1'} 10\n",
      "(<Instruction.CMOVG: 2>, <Operand.RDI: 0>, <Operand.RAX: 2>) {'example_0': 'rdi=1 rsi=2 rax=1 cmp_res=0', 'example_1': 'rdi=2 rsi=1 rax=1 cmp_res=-1'} 10\n",
      "(<Instruction.CMOVG: 2>, <Operand.RDI: 0>, <Operand.RAX: 2>) {'example_0': 'rdi=1 rsi=2 rax=1 cmp_res=0', 'example_1': 'rdi=2 rsi=1 rax=1 cmp_res=-1'} 10\n",
      "(<Instruction.CMOVG: 2>, <Operand.RDI: 0>, <Operand.RAX: 2>) {'example_0': 'rdi=1 rsi=2 rax=1 cmp_res=0', 'example_1': 'rdi=2 rsi=1 rax=1 cmp_res=-1'} 10\n",
      "(<Instruction.CMP: 1>, <Operand.RDI: 0>, <Operand.RAX: 2>) {'example_0': 'rdi=1 rsi=2 rax=1 cmp_res=0', 'example_1': 'rdi=2 rsi=1 rax=1 cmp_res=-1'} 10\n",
      "(<Instruction.CMP: 1>, <Operand.RDI: 0>, <Operand.RAX: 2>) {'example_0': 'rdi=1 rsi=2 rax=1 cmp_res=0', 'example_1': 'rdi=2 rsi=1 rax=1 cmp_res=-1'} 10\n",
      "(<Instruction.CMOVG: 2>, <Operand.RDI: 0>, <Operand.RAX: 2>) {'example_0': 'rdi=1 rsi=2 rax=1 cmp_res=0', 'example_1': 'rdi=2 rsi=1 rax=1 cmp_res=-1'} 10\n",
      "(<Instruction.CMP: 1>, <Operand.RDI: 0>, <Operand.RAX: 2>) {'example_0': 'rdi=1 rsi=2 rax=1 cmp_res=0', 'example_1': 'rdi=2 rsi=1 rax=1 cmp_res=-1'} 10\n",
      "(<Instruction.CMP: 1>, <Operand.RDI: 0>, <Operand.RAX: 2>) {'example_0': 'rdi=1 rsi=2 rax=1 cmp_res=0', 'example_1': 'rdi=2 rsi=1 rax=1 cmp_res=-1'} 10\n",
      "(<Instruction.CMP: 1>, <Operand.RDI: 0>, <Operand.RAX: 2>) {'example_0': 'rdi=1 rsi=2 rax=1 cmp_res=0', 'example_1': 'rdi=2 rsi=1 rax=1 cmp_res=-1'} 10\n",
      "(<Instruction.CMOVG: 2>, <Operand.RDI: 0>, <Operand.RAX: 2>) {'example_0': 'rdi=1 rsi=2 rax=1 cmp_res=0', 'example_1': 'rdi=2 rsi=1 rax=1 cmp_res=-1'} 10\n",
      "(<Instruction.CMP: 1>, <Operand.RDI: 0>, <Operand.RSI: 1>) {'example_0': 'rdi=1 rsi=2 rax=1 cmp_res=1', 'example_1': 'rdi=2 rsi=1 rax=1 cmp_res=-1'} 10\n",
      "(<Instruction.CMP: 1>, <Operand.RDI: 0>, <Operand.RAX: 2>) {'example_0': 'rdi=1 rsi=2 rax=1 cmp_res=0', 'example_1': 'rdi=2 rsi=1 rax=1 cmp_res=-1'} 10\n",
      "(<Instruction.CMP: 1>, <Operand.RDI: 0>, <Operand.RAX: 2>) {'example_0': 'rdi=1 rsi=2 rax=1 cmp_res=0', 'example_1': 'rdi=2 rsi=1 rax=1 cmp_res=-1'} 10\n",
      "(<Instruction.CMOVG: 2>, <Operand.RDI: 0>, <Operand.RAX: 2>) {'example_0': 'rdi=1 rsi=2 rax=1 cmp_res=0', 'example_1': 'rdi=2 rsi=1 rax=1 cmp_res=-1'} 10\n",
      "(<Instruction.CMOVG: 2>, <Operand.RDI: 0>, <Operand.RAX: 2>) {'example_0': 'rdi=1 rsi=2 rax=1 cmp_res=0', 'example_1': 'rdi=2 rsi=1 rax=1 cmp_res=-1'} 10\n",
      "(<Instruction.CMOVG: 2>, <Operand.RDI: 0>, <Operand.RAX: 2>) {'example_0': 'rdi=1 rsi=2 rax=1 cmp_res=0', 'example_1': 'rdi=2 rsi=1 rax=1 cmp_res=-1'} 10\n",
      "(<Instruction.CMP: 1>, <Operand.RDI: 0>, <Operand.RAX: 2>) {'example_0': 'rdi=1 rsi=2 rax=1 cmp_res=0', 'example_1': 'rdi=2 rsi=1 rax=1 cmp_res=-1'} 10\n",
      "(<Instruction.CMP: 1>, <Operand.RDI: 0>, <Operand.RAX: 2>) {'example_0': 'rdi=1 rsi=2 rax=1 cmp_res=0', 'example_1': 'rdi=2 rsi=1 rax=1 cmp_res=-1'} 10\n",
      "(<Instruction.CMP: 1>, <Operand.RDI: 0>, <Operand.RAX: 2>) {'example_0': 'rdi=1 rsi=2 rax=1 cmp_res=0', 'example_1': 'rdi=2 rsi=1 rax=1 cmp_res=-1'} 10\n",
      "(<Instruction.CMP: 1>, <Operand.RDI: 0>, <Operand.RAX: 2>) {'example_0': 'rdi=1 rsi=2 rax=1 cmp_res=0', 'example_1': 'rdi=2 rsi=1 rax=1 cmp_res=-1'} 10\n",
      "(<Instruction.CMOVG: 2>, <Operand.RDI: 0>, <Operand.RAX: 2>) {'example_0': 'rdi=1 rsi=2 rax=1 cmp_res=0', 'example_1': 'rdi=2 rsi=1 rax=1 cmp_res=-1'} 10\n",
      "(<Instruction.CMOVG: 2>, <Operand.RDI: 0>, <Operand.RAX: 2>) {'example_0': 'rdi=1 rsi=2 rax=1 cmp_res=0', 'example_1': 'rdi=2 rsi=1 rax=1 cmp_res=-1'} 10\n",
      "(<Instruction.CMP: 1>, <Operand.RDI: 0>, <Operand.RAX: 2>) {'example_0': 'rdi=1 rsi=2 rax=1 cmp_res=0', 'example_1': 'rdi=2 rsi=1 rax=1 cmp_res=-1'} 10\n",
      "(<Instruction.CMP: 1>, <Operand.RDI: 0>, <Operand.RAX: 2>) {'example_0': 'rdi=1 rsi=2 rax=1 cmp_res=0', 'example_1': 'rdi=2 rsi=1 rax=1 cmp_res=-1'} 10\n",
      "(<Instruction.CMOVG: 2>, <Operand.RDI: 0>, <Operand.RAX: 2>) {'example_0': 'rdi=1 rsi=2 rax=1 cmp_res=0', 'example_1': 'rdi=2 rsi=1 rax=1 cmp_res=-1'} 10\n",
      "(<Instruction.CMP: 1>, <Operand.RDI: 0>, <Operand.RAX: 2>) {'example_0': 'rdi=1 rsi=2 rax=1 cmp_res=0', 'example_1': 'rdi=2 rsi=1 rax=1 cmp_res=-1'} 10\n",
      "(<Instruction.CMP: 1>, <Operand.RDI: 0>, <Operand.RAX: 2>) {'example_0': 'rdi=1 rsi=2 rax=1 cmp_res=0', 'example_1': 'rdi=2 rsi=1 rax=1 cmp_res=-1'} 10\n",
      "(<Instruction.CMP: 1>, <Operand.RDI: 0>, <Operand.RAX: 2>) {'example_0': 'rdi=1 rsi=2 rax=1 cmp_res=0', 'example_1': 'rdi=2 rsi=1 rax=1 cmp_res=-1'} 10\n",
      "(<Instruction.CMP: 1>, <Operand.RDI: 0>, <Operand.RAX: 2>) {'example_0': 'rdi=1 rsi=2 rax=1 cmp_res=0', 'example_1': 'rdi=2 rsi=1 rax=1 cmp_res=-1'} 10\n",
      "(<Instruction.CMP: 1>, <Operand.RAX: 2>, <Operand.RAX: 2>) {'example_0': 'rdi=1 rsi=2 rax=1 cmp_res=0', 'example_1': 'rdi=2 rsi=1 rax=1 cmp_res=0'} 10\n",
      "(<Instruction.CMP: 1>, <Operand.RDI: 0>, <Operand.RAX: 2>) {'example_0': 'rdi=1 rsi=2 rax=1 cmp_res=0', 'example_1': 'rdi=2 rsi=1 rax=1 cmp_res=-1'} 10\n",
      "(<Instruction.CMP: 1>, <Operand.RDI: 0>, <Operand.RAX: 2>) {'example_0': 'rdi=1 rsi=2 rax=1 cmp_res=0', 'example_1': 'rdi=2 rsi=1 rax=1 cmp_res=-1'} 10\n",
      "(<Instruction.CMOVG: 2>, <Operand.RDI: 0>, <Operand.RAX: 2>) {'example_0': 'rdi=1 rsi=2 rax=1 cmp_res=0', 'example_1': 'rdi=2 rsi=1 rax=1 cmp_res=-1'} 10\n",
      "(<Instruction.CMOVG: 2>, <Operand.RDI: 0>, <Operand.RAX: 2>) {'example_0': 'rdi=1 rsi=2 rax=1 cmp_res=0', 'example_1': 'rdi=2 rsi=1 rax=1 cmp_res=-1'} 10\n",
      "(<Instruction.CMP: 1>, <Operand.RDI: 0>, <Operand.RAX: 2>) {'example_0': 'rdi=1 rsi=2 rax=1 cmp_res=0', 'example_1': 'rdi=2 rsi=1 rax=1 cmp_res=-1'} 10\n",
      "(<Instruction.CMP: 1>, <Operand.RDI: 0>, <Operand.RAX: 2>) {'example_0': 'rdi=1 rsi=2 rax=1 cmp_res=0', 'example_1': 'rdi=2 rsi=1 rax=1 cmp_res=-1'} 10\n",
      "total reward 952\n"
     ]
    }
   ],
   "source": [
    "state, _ = game.reset()\n",
    "cumreward = 0\n",
    "for i in range(MAX_STEPS):\n",
    "  action,_ = model.predict(state)\n",
    "  state, reward, terminated, truncated, info = game.step(action)\n",
    "  cumreward +=reward\n",
    "  print(PROCESSOR_ACTIONS[action], info, reward)\n",
    "  if terminated:\n",
    "    print(terminated)\n",
    "    print(truncated)\n",
    "    print(f\"Episode finished after {i+1} timestamps\")\n",
    "    break\n",
    "print(f\"total reward {cumreward}\")"
   ]
  },
  {
   "cell_type": "code",
   "execution_count": null,
   "metadata": {},
   "outputs": [],
   "source": []
  }
 ],
 "metadata": {
  "kernelspec": {
   "display_name": ".venv",
   "language": "python",
   "name": "python3"
  },
  "language_info": {
   "codemirror_mode": {
    "name": "ipython",
    "version": 3
   },
   "file_extension": ".py",
   "mimetype": "text/x-python",
   "name": "python",
   "nbconvert_exporter": "python",
   "pygments_lexer": "ipython3",
   "version": "3.12.3"
  }
 },
 "nbformat": 4,
 "nbformat_minor": 2
}
